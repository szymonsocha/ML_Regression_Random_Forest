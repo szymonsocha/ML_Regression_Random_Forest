{
 "cells": [
  {
   "cell_type": "markdown",
   "metadata": {},
   "source": [
    "# Machine Learning 1 - Regression project"
   ]
  },
  {
   "cell_type": "markdown",
   "metadata": {},
   "source": [
    "In this project I am doing regression on weather data and making predictions on traffic. At the very beginning I do the data preparation. I clean them of outliers and prepare them for further prediction. To make predictions I use machine learning algorithms (Linear, Lasso, Ridge and Elastic Net Regression, Random Forrest, KNN regressor, SVM), compare their performance and make predictions on a test set.</br>\n",
    "The main task of the project is to make a prediction with the lowest possible prediction error as measured by MAPE (Mean Absolute Percentage Error)."
   ]
  },
  {
   "cell_type": "markdown",
   "metadata": {},
   "source": [
    "# Import libraries"
   ]
  },
  {
   "cell_type": "markdown",
   "metadata": {},
   "source": [
    "Let's begin with importing all necessary libraries"
   ]
  },
  {
   "cell_type": "code",
   "execution_count": 594,
   "metadata": {
    "ExecuteTime": {
     "end_time": "2020-12-18T19:16:22.333536Z",
     "start_time": "2020-12-18T19:16:22.330327Z"
    },
    "tags": []
   },
   "outputs": [],
   "source": [
    "import warnings\n",
    "warnings.filterwarnings(\"ignore\")\n",
    "from  warnings import simplefilter\n",
    "from sklearn.exceptions import ConvergenceWarning\n",
    "\n",
    "import pandas as pd\n",
    "import numpy as np\n",
    "import statsmodels.api as sm\n",
    "import seaborn as sns\n",
    "import matplotlib.pyplot as plt\n",
    "#%matplotlib inline\n",
    "\n",
    "from sklearn import linear_model\n",
    "from sklearn import metrics\n",
    "from sklearn import ensemble\n",
    "from sklearn.metrics import mean_squared_error, roc_auc_score, mean_absolute_percentage_error\n",
    "from sklearn.pipeline import make_pipeline, Pipeline\n",
    "from sklearn.preprocessing import RobustScaler, StandardScaler\n",
    "from sklearn.ensemble import RandomForestRegressor, RandomForestClassifier\n",
    "from sklearn.svm import SVR\n",
    "from sklearn.neighbors import KNeighborsRegressor\n",
    "from sklearn.model_selection import train_test_split, KFold, GridSearchCV"
   ]
  },
  {
   "cell_type": "markdown",
   "metadata": {},
   "source": [
    "# Data preparation"
   ]
  },
  {
   "cell_type": "markdown",
   "metadata": {},
   "source": [
    "The dataset includes the following columns:\n",
    "- `date_time` – date and time (1 hourly interval)\n",
    "- `weather_general` – general short description of the current weather with the following levels: Clear, Clouds, Drizzle, Fog, Haze, Mist, Rain, Smoke, Snow, Squall, Thunderstorm\n",
    "- `weather_detailed` – more detailed description of the current weather with the following levels: broken clouds, drizzle, few clouds, fog, freezing rain, haze, heavy intensity drizzle, heavy intensity rain, heavy snow, light intensity drizzle, light intensity shower rain, light rain, light rain and snow, light shower snow, light snow, mist, moderate rain, overcast clouds, proximity shower rain, proximity thunderstorm, proximity thunderstorm with drizzle, proximity thunderstorm with rain, scattered clouds, shower drizzle, shower snow, sky is clear, sleet, smoke, snow, squalls, thunderstorm, thunderstorm with drizzle, thunderstorm with heavy rain, thunderstorm with light drizzle, thunderstorm with light rain, thunderstorm with rain, very heavy rain\n",
    "- `clouds_coverage` – percentage of sky covered by the clouds in the hourly interval\n",
    "- `temperature` – average temperature in the hourly interval (in Celsius degrees)\n",
    "- `rain_mm` – amount of rain that occurred in the hourly interval (in mm)\n",
    "- `snow_mm` – amount of snow that occurred in the hourly interval (in mm)\n",
    "- `traffic` – the amount of traffic in the hourly interval (outcome variable, only in the training sample)"
   ]
  },
  {
   "cell_type": "markdown",
   "metadata": {},
   "source": [
    "Import training dataset csv file"
   ]
  },
  {
   "cell_type": "code",
   "execution_count": 595,
   "metadata": {},
   "outputs": [
    {
     "data": {
      "text/plain": [
       "(29685, 8)"
      ]
     },
     "execution_count": 595,
     "metadata": {},
     "output_type": "execute_result"
    }
   ],
   "source": [
    "traffic_train = pd.read_csv(\"data/traffic_train.csv\")\n",
    "traffic_train = traffic_train.dropna()\n",
    "\n",
    "traffic_train = traffic_train[traffic_train.traffic != 0]\n",
    "traffic_train.shape"
   ]
  },
  {
   "cell_type": "markdown",
   "metadata": {},
   "source": [
    "At the very beginning I decide to delete observations that are equal to 0. I consider them to be wrong. The initial dataset has 29685 observations and 8 variables."
   ]
  },
  {
   "cell_type": "markdown",
   "metadata": {},
   "source": [
    "I also import a test dataset."
   ]
  },
  {
   "cell_type": "code",
   "execution_count": 596,
   "metadata": {},
   "outputs": [
    {
     "name": "stdout",
     "output_type": "stream",
     "text": [
      "count    10591.0\n",
      "mean         0.0\n",
      "std          0.0\n",
      "min          0.0\n",
      "25%          0.0\n",
      "50%          0.0\n",
      "75%          0.0\n",
      "max          0.0\n",
      "Name: snow_mm, dtype: float64\n",
      "count    10591.0\n",
      "mean         0.0\n",
      "std          0.0\n",
      "min          0.0\n",
      "25%          0.0\n",
      "50%          0.0\n",
      "75%          0.0\n",
      "max          0.0\n",
      "Name: rain_mm, dtype: float64\n"
     ]
    }
   ],
   "source": [
    "traffic_test = pd.read_csv(\"data/traffic_test.csv\")\n",
    "print(traffic_test[\"snow_mm\"].describe())\n",
    "print(traffic_test[\"rain_mm\"].describe())\n",
    "traffic_test.drop(columns=['snow_mm', 'rain_mm'], inplace = True)"
   ]
  },
  {
   "cell_type": "markdown",
   "metadata": {},
   "source": [
    "I move on to analyse the variables and prepare the data. The distribution of the explanatory variable `traffic` which is the target seems to be correct."
   ]
  },
  {
   "cell_type": "code",
   "execution_count": 597,
   "metadata": {
    "tags": []
   },
   "outputs": [
    {
     "data": {
      "text/plain": [
       "<AxesSubplot:xlabel='traffic', ylabel='Count'>"
      ]
     },
     "execution_count": 597,
     "metadata": {},
     "output_type": "execute_result"
    },
    {
     "data": {
      "image/png": "[encoded data removed]",
      "text/plain": [
       "<Figure size 432x288 with 1 Axes>"
      ]
     },
     "metadata": {
      "needs_background": "light"
     },
     "output_type": "display_data"
    }
   ],
   "source": [
    "sns.histplot(data=traffic_train, x=\"traffic\")"
   ]
  },
  {
   "cell_type": "markdown",
   "metadata": {},
   "source": [
    "For `clouds_coverage_pct` I observe that values every 20 have the majority of observations. In later steps I combine the values between to rounded levels of every 20."
   ]
  },
  {
   "cell_type": "code",
   "execution_count": 598,
   "metadata": {},
   "outputs": [
    {
     "data": {
      "text/plain": [
       "<AxesSubplot:xlabel='clouds_coverage_pct', ylabel='Count'>"
      ]
     },
     "execution_count": 598,
     "metadata": {},
     "output_type": "execute_result"
    },
    {
     "data": {
      "image/png": "[encoded data removed]",
      "text/plain": [
       "<Figure size 432x288 with 1 Axes>"
      ]
     },
     "metadata": {
      "needs_background": "light"
     },
     "output_type": "display_data"
    }
   ],
   "source": [
    "sns.histplot(data=traffic_train, x=\"clouds_coverage_pct\")"
   ]
  },
  {
   "cell_type": "markdown",
   "metadata": {},
   "source": [
    "For `temperature` I observe that there are outliers. I remove them in a later step."
   ]
  },
  {
   "cell_type": "code",
   "execution_count": 599,
   "metadata": {},
   "outputs": [
    {
     "data": {
      "text/plain": [
       "<AxesSubplot:xlabel='temperature', ylabel='Count'>"
      ]
     },
     "execution_count": 599,
     "metadata": {},
     "output_type": "execute_result"
    },
    {
     "data": {
      "image/png": "[encoded data removed]",
      "text/plain": [
       "<Figure size 432x288 with 1 Axes>"
      ]
     },
     "metadata": {
      "needs_background": "light"
     },
     "output_type": "display_data"
    }
   ],
   "source": [
    "sns.histplot(data=traffic_train, x=\"temperature\")"
   ]
  },
  {
   "cell_type": "markdown",
   "metadata": {},
   "source": [
    "I draw a `target` chart for the first 168 observations (equivalent to one week). I see very strong daily seasonality. Two days seem to be smaller than the others, they are weekends. A correct transformation of the `date_time` variable will be crucial for the accuracy of the subsequent prediction."
   ]
  },
  {
   "cell_type": "code",
   "execution_count": 600,
   "metadata": {},
   "outputs": [
    {
     "data": {
      "text/plain": [
       "<Figure size 432x288 with 0 Axes>"
      ]
     },
     "metadata": {},
     "output_type": "display_data"
    },
    {
     "data": {
      "image/png": "[encoded data removed]",
      "text/plain": [
       "<Figure size 432x288 with 1 Axes>"
      ]
     },
     "metadata": {
      "needs_background": "light"
     },
     "output_type": "display_data"
    }
   ],
   "source": [
    "plt.figure()\n",
    "traffic_train[[\"date_time\", \"traffic\"]].head(168).plot()\n",
    "plt.show()"
   ]
  },
  {
   "cell_type": "markdown",
   "metadata": {},
   "source": [
    "Based on the observations made, I am removing all observations of temperatures below -50 degrees. I note that the columns `snow_mm`, `rain_mm` are redundant (in the test set all observations have a value of 0 for these variables). Further, as I said seasonality will be key with this data. Based on the `date_time` variable I create a numeric variable `month` (1-12), `hour` (0-23), `is_weekend` (dummy variable for weekend), `weekday` (1-7 for weekday)."
   ]
  },
  {
   "cell_type": "code",
   "execution_count": 601,
   "metadata": {},
   "outputs": [],
   "source": [
    "traffic_train = traffic_train[traffic_train.temperature > -50]\n",
    "\n",
    "traffic_train = traffic_train[traffic_train.snow_mm == 0]\n",
    "traffic_train = traffic_train[traffic_train.rain_mm == 0]\n",
    "traffic_train.drop(columns=['snow_mm', 'rain_mm'], inplace = True)\n",
    "\n",
    "#traffic_train = traffic_train[traffic_train.rain_mm < 60]\n",
    "#traffic_train['log_rain_mm'] = np.log(traffic_train.rain_mm+1)\n",
    "#traffic_train = traffic_train[traffic_train.snow_mm < 120]\n",
    "#traffic_train['log_snow_mm'] = np.log(traffic_train.snow_mm+1)\n",
    "\n",
    "#traffic_train['year'] = pd.to_datetime(traffic_train['date_time']).dt.year\n",
    "traffic_train['month'] = pd.to_datetime(traffic_train['date_time']).dt.month\n",
    "traffic_train['hour'] = pd.to_datetime(traffic_train['date_time']).dt.hour\n",
    "traffic_train[\"is_weekend\"] = pd.to_datetime(traffic_train['date_time']).dt.dayofweek > 5\n",
    "traffic_train['weekday'] = pd.to_datetime(traffic_train['date_time']).dt.dayofweek\n",
    "#traffic_train = pd.get_dummies(traffic_train, columns=['weather_general', 'weather_detailed', 'year', 'month'])"
   ]
  },
  {
   "cell_type": "markdown",
   "metadata": {},
   "source": [
    "In addition, I group the hours by time of day `Night`, `Morning`, `Noon`, `Evening`. I also combine the mentioned `clouds_coverage_pct` into levels every 20."
   ]
  },
  {
   "cell_type": "code",
   "execution_count": 602,
   "metadata": {},
   "outputs": [],
   "source": [
    "traffic_train['part_of_day'] = pd.cut(traffic_train['hour'], bins=[0,4,7,13,19,24], labels=['Night', 'Morning','Noon','Evening', 'Night'], include_lowest=True, ordered=False)\n",
    "traffic_train['clouds_coverage_pct'] = pd.cut(x=traffic_train['clouds_coverage_pct'], bins=[-1,10,30,50,70,90,100], labels=[0, 20, 40, 60, 80, 100])"
   ]
  },
  {
   "cell_type": "markdown",
   "metadata": {},
   "source": [
    "I create dummy variables."
   ]
  },
  {
   "cell_type": "code",
   "execution_count": 603,
   "metadata": {},
   "outputs": [],
   "source": [
    "traffic_train = pd.get_dummies(traffic_train, columns=['weather_general', 'weather_detailed', 'month', 'hour', 'is_weekend', 'weekday', 'part_of_day'])"
   ]
  },
  {
   "cell_type": "markdown",
   "metadata": {},
   "source": [
    "I think the variables responsible for the weather details are too detailed. I arbitrarily combine them into larger, more generalised variables."
   ]
  },
  {
   "cell_type": "code",
   "execution_count": 604,
   "metadata": {},
   "outputs": [],
   "source": [
    "traffic_train[\"weather_general_Clouds\"] = traffic_train[\"weather_general_Clouds\"] + traffic_train[\"weather_general_Squall\"]\n",
    "traffic_train.drop(columns=[\"weather_general_Squall\"], inplace=True)\n",
    "\n",
    "traffic_train[\"weather_general_Clouds\"] = traffic_train[\"weather_general_Clouds\"] + traffic_train['weather_detailed_squalls']\n",
    "traffic_train.drop(columns=['weather_detailed_squalls'], inplace=True)\n",
    "\n",
    "traffic_train[\"weather_general_Fog\"] = traffic_train[\"weather_general_Fog\"] + traffic_train[\"weather_general_Smoke\"]\n",
    "traffic_train.drop(columns=[\"weather_general_Smoke\"], inplace=True)\n",
    "\n",
    "\n",
    "traffic_train[\"weather_detailed_drizzle\"] = traffic_train[\"weather_detailed_drizzle\"] + traffic_train[\"weather_detailed_heavy intensity drizzle\"]\n",
    "traffic_train.drop(columns=[\"weather_detailed_heavy intensity drizzle\"], inplace=True)\n",
    "\n",
    "traffic_train[\"weather_detailed_drizzle\"] = traffic_train[\"weather_detailed_drizzle\"] + traffic_train[\"weather_detailed_shower drizzle\"]\n",
    "traffic_train.drop(columns=[\"weather_detailed_shower drizzle\"], inplace=True)\n",
    "\n",
    "traffic_train[\"weather_detailed_drizzle\"] = traffic_train[\"weather_detailed_drizzle\"] + traffic_train['weather_detailed_light intensity drizzle']\n",
    "traffic_train.drop(columns=['weather_detailed_light intensity drizzle'], inplace=True)\n",
    "\n",
    "traffic_train[\"weather_detailed_light rain\"] = traffic_train[\"weather_detailed_light rain\"] + traffic_train[\"weather_detailed_light rain and snow\"]\n",
    "traffic_train.drop(columns=[\"weather_detailed_light rain and snow\"], inplace=True)\n",
    "\n",
    "traffic_train[\"weather_detailed_light rain\"] = traffic_train[\"weather_detailed_light rain\"] + traffic_train['weather_detailed_proximity shower rain']\n",
    "traffic_train.drop(columns=['weather_detailed_proximity shower rain'], inplace=True)\n",
    "\n",
    "traffic_train[\"weather_detailed_moderate rain\"] = traffic_train[\"weather_detailed_moderate rain\"] + traffic_train['weather_detailed_freezing rain']\n",
    "traffic_train.drop(columns=['weather_detailed_freezing rain'], inplace=True)\n",
    "\n",
    "\n",
    "traffic_train[\"weather_detailed_thunderstorm with rain\"] = traffic_train[\"weather_detailed_thunderstorm with rain\"] + traffic_train[\"weather_detailed_thunderstorm with light drizzle\"]\n",
    "traffic_train.drop(columns=[\"weather_detailed_thunderstorm with light drizzle\"], inplace=True)\n",
    "\n",
    "\n",
    "traffic_train[\"weather_detailed_light snow\"] = traffic_train[\"weather_detailed_light snow\"] + traffic_train[\"weather_detailed_light shower snow\"]\n",
    "traffic_train.drop(columns=[\"weather_detailed_light shower snow\"], inplace=True)\n",
    "\n",
    "traffic_train[\"weather_detailed_light snow\"] = traffic_train[\"weather_detailed_light rain\"] + traffic_train[\"weather_detailed_shower snow\"]\n",
    "traffic_train.drop(columns=[\"weather_detailed_shower snow\"], inplace=True)\n",
    "\n",
    "traffic_train[\"weather_detailed_snow\"] = traffic_train[\"weather_detailed_snow\"] + traffic_train[\"weather_detailed_sleet\"]\n",
    "traffic_train.drop(columns=[\"weather_detailed_sleet\"], inplace=True)\n",
    "\n",
    "\n",
    "\n",
    "traffic_train[\"weather_detailed_proximity thunderstorm\"] = traffic_train[\"weather_detailed_proximity thunderstorm\"] + traffic_train[\"weather_detailed_proximity thunderstorm with drizzle\"]\n",
    "traffic_train.drop(columns=[\"weather_detailed_proximity thunderstorm with drizzle\"], inplace=True)\n",
    "\n",
    "traffic_train[\"weather_detailed_proximity thunderstorm\"] = traffic_train[\"weather_detailed_proximity thunderstorm\"] + traffic_train[\"weather_detailed_proximity thunderstorm with rain\"]\n",
    "traffic_train.drop(columns=[\"weather_detailed_proximity thunderstorm with rain\"], inplace=True)\n",
    "\n",
    "traffic_train[\"weather_detailed_thunderstorm\"] = traffic_train[\"weather_detailed_thunderstorm\"] + traffic_train[\"weather_detailed_thunderstorm with heavy rain\"] + traffic_train[\"weather_detailed_thunderstorm with light rain\"] + traffic_train[\"weather_detailed_thunderstorm with rain\"]\n",
    "traffic_train.drop(columns=[\"weather_detailed_thunderstorm with heavy rain\", \"weather_detailed_thunderstorm with light rain\", \"weather_detailed_thunderstorm with rain\"], inplace=True)\n",
    "\n",
    "\n",
    "traffic_train[\"weather_detailed_fog\"] = traffic_train[\"weather_detailed_fog\"] + traffic_train[\"weather_detailed_smoke\"]\n",
    "traffic_train.drop(columns=[\"weather_detailed_smoke\"], inplace=True)"
   ]
  },
  {
   "cell_type": "markdown",
   "metadata": {},
   "source": [
    "In the next step, I check the correlations and decide whether I can remove the various weather levels."
   ]
  },
  {
   "cell_type": "code",
   "execution_count": 605,
   "metadata": {},
   "outputs": [
    {
     "name": "stdout",
     "output_type": "stream",
     "text": [
      "weather_general_Fog       0    1\n",
      "weather_detailed_fog            \n",
      "0                     26410    0\n",
      "1                         0  457\n",
      "The P-Value of the ChiSq Test is: 0.0\n",
      "\n",
      "weather_general_Snow       0     1\n",
      "weather_detailed_snow             \n",
      "0                      25154  1566\n",
      "1                          0   147\n",
      "The P-Value of the ChiSq Test is: 0.0\n",
      "\n",
      "weather_general_Snow       0     1\n",
      "weather_detailed_snow             \n",
      "0                      25154  1566\n",
      "1                          0   147\n",
      "The P-Value of the ChiSq Test is: 0.0\n",
      "\n",
      "weather_detailed_thunderstorm      0   1\n",
      "weather_general_Thunderstorm            \n",
      "0                              26632   0\n",
      "1                                165  70\n",
      "The P-Value of the ChiSq Test is: 0.0\n",
      "\n",
      "weather_detailed_mist      0     1\n",
      "weather_general_Mist              \n",
      "0                      23901     0\n",
      "1                          0  2966\n",
      "The P-Value of the ChiSq Test is: 0.0\n",
      "\n",
      "weather_detailed_drizzle      0    1\n",
      "weather_general_Drizzle             \n",
      "0                         26156    0\n",
      "1                             0  711\n",
      "The P-Value of the ChiSq Test is: 0.0\n",
      "\n",
      "weather_detailed_haze      0    1\n",
      "weather_general_Haze             \n",
      "0                      26152    0\n",
      "1                          0  715\n",
      "The P-Value of the ChiSq Test is: 0.0\n",
      "\n",
      "weather_detailed_proximity thunderstorm      0    1\n",
      "weather_general_Thunderstorm                       \n",
      "0                                        26632    0\n",
      "1                                           70  165\n",
      "The P-Value of the ChiSq Test is: 0.0\n"
     ]
    }
   ],
   "source": [
    "CrosstabResult=pd.crosstab(index=traffic_train[\"weather_detailed_fog\"],columns=traffic_train[\"weather_general_Fog\"])\n",
    "print(CrosstabResult)\n",
    "from scipy.stats import chi2_contingency\n",
    "ChiSqResult = chi2_contingency(CrosstabResult)\n",
    "print('The P-Value of the ChiSq Test is:', ChiSqResult[1])\n",
    "print(\"\")\n",
    "CrosstabResult=pd.crosstab(index=traffic_train[\"weather_detailed_snow\"],columns=traffic_train[\"weather_general_Snow\"])\n",
    "print(CrosstabResult)\n",
    "from scipy.stats import chi2_contingency\n",
    "ChiSqResult = chi2_contingency(CrosstabResult)\n",
    "print('The P-Value of the ChiSq Test is:', ChiSqResult[1])\n",
    "print(\"\")\n",
    "CrosstabResult=pd.crosstab(index=traffic_train[\"weather_detailed_snow\"],columns=traffic_train[\"weather_general_Snow\"])\n",
    "print(CrosstabResult)\n",
    "from scipy.stats import chi2_contingency\n",
    "ChiSqResult = chi2_contingency(CrosstabResult)\n",
    "print('The P-Value of the ChiSq Test is:', ChiSqResult[1])\n",
    "print(\"\")\n",
    "CrosstabResult=pd.crosstab(index=traffic_train['weather_general_Thunderstorm'],columns=traffic_train['weather_detailed_thunderstorm'])\n",
    "print(CrosstabResult)\n",
    "from scipy.stats import chi2_contingency\n",
    "ChiSqResult = chi2_contingency(CrosstabResult)\n",
    "print('The P-Value of the ChiSq Test is:', ChiSqResult[1])\n",
    "print(\"\")\n",
    "CrosstabResult=pd.crosstab(index=traffic_train['weather_general_Mist'],columns=traffic_train['weather_detailed_mist'])\n",
    "print(CrosstabResult)\n",
    "from scipy.stats import chi2_contingency\n",
    "ChiSqResult = chi2_contingency(CrosstabResult)\n",
    "print('The P-Value of the ChiSq Test is:', ChiSqResult[1])\n",
    "print(\"\")\n",
    "CrosstabResult=pd.crosstab(index=traffic_train['weather_general_Drizzle'],columns=traffic_train['weather_detailed_drizzle'])\n",
    "print(CrosstabResult)\n",
    "from scipy.stats import chi2_contingency\n",
    "ChiSqResult = chi2_contingency(CrosstabResult)\n",
    "print('The P-Value of the ChiSq Test is:', ChiSqResult[1])\n",
    "print(\"\")\n",
    "CrosstabResult=pd.crosstab(index=traffic_train['weather_general_Haze'],columns=traffic_train['weather_detailed_haze'])\n",
    "print(CrosstabResult)\n",
    "from scipy.stats import chi2_contingency\n",
    "ChiSqResult = chi2_contingency(CrosstabResult)\n",
    "print('The P-Value of the ChiSq Test is:', ChiSqResult[1])\n",
    "print(\"\")\n",
    "CrosstabResult=pd.crosstab(index=traffic_train['weather_general_Thunderstorm'],columns=traffic_train['weather_detailed_proximity thunderstorm'])\n",
    "print(CrosstabResult)\n",
    "from scipy.stats import chi2_contingency\n",
    "ChiSqResult = chi2_contingency(CrosstabResult)\n",
    "print('The P-Value of the ChiSq Test is:', ChiSqResult[1])"
   ]
  },
  {
   "cell_type": "markdown",
   "metadata": {},
   "source": [
    "I am removing unnecessary columns."
   ]
  },
  {
   "cell_type": "code",
   "execution_count": 606,
   "metadata": {},
   "outputs": [],
   "source": [
    "traffic_train.drop(columns=['weather_detailed_fog', 'weather_detailed_snow', 'weather_detailed_thunderstorm', 'weather_detailed_mist', 'weather_detailed_drizzle', 'weather_detailed_haze', 'weather_detailed_proximity thunderstorm'], inplace=True)"
   ]
  },
  {
   "cell_type": "markdown",
   "metadata": {},
   "source": [
    "I decode oridinal variables into the strength of a given weather phenomenon (scaled from 0 to 1)."
   ]
  },
  {
   "cell_type": "code",
   "execution_count": 607,
   "metadata": {},
   "outputs": [],
   "source": [
    "# Ordinal sky\n",
    "scale_mapper = {'weather_detailed_sky is clear':0, 'weather_detailed_broken clouds':0.25, 'weather_detailed_few clouds':0.5 , 'weather_detailed_scattered clouds':0.75 , 'weather_detailed_overcast clouds':1}\n",
    "traffic_train[\"clear_sky_ordinal\"] = traffic_train[['weather_detailed_sky is clear', 'weather_detailed_broken clouds', 'weather_detailed_few clouds', 'weather_detailed_scattered clouds', 'weather_detailed_overcast clouds']].idxmax(axis=1).replace(scale_mapper)\n",
    "traffic_train.drop(columns=['weather_detailed_sky is clear', 'weather_detailed_broken clouds', 'weather_detailed_few clouds', 'weather_detailed_scattered clouds', 'weather_detailed_overcast clouds'], inplace=True)\n",
    "\n",
    "# Ordinal rain\n",
    "scale_mapper = {'weather_detailed_light intensity shower rain':0, 'weather_detailed_light rain':0.33 , 'weather_detailed_moderate rain':0.66 , 'weather_detailed_heavy intensity rain':1}\n",
    "traffic_train[\"rain_strength_ordinal\"] = traffic_train[['weather_detailed_light intensity shower rain', 'weather_detailed_light rain', 'weather_detailed_moderate rain', 'weather_detailed_heavy intensity rain']].idxmax(axis=1).replace(scale_mapper)\n",
    "traffic_train.drop(columns=['weather_detailed_light intensity shower rain', 'weather_detailed_light rain', 'weather_detailed_moderate rain', 'weather_detailed_heavy intensity rain'], inplace=True)\n",
    "\n",
    "# Ordinal snow\n",
    "scale_mapper = {'weather_detailed_light snow':0, 'weather_detailed_heavy snow':1}\n",
    "traffic_train[\"snow_strength_ordinal\"] = traffic_train[['weather_detailed_light snow', 'weather_detailed_heavy snow']].idxmax(axis=1).replace(scale_mapper)\n",
    "traffic_train.drop(columns=['weather_detailed_light snow', 'weather_detailed_heavy snow'], inplace=True)"
   ]
  },
  {
   "cell_type": "markdown",
   "metadata": {},
   "source": [
    "I am correcting the values created when adding columns."
   ]
  },
  {
   "cell_type": "code",
   "execution_count": 608,
   "metadata": {},
   "outputs": [],
   "source": [
    "traffic_train.loc[traffic_train['weather_general_Clear'] > 1, 'weather_general_Clear'] = 1\n",
    "traffic_train.loc[traffic_train['weather_general_Clouds'] > 1, 'weather_general_Clouds'] = 1\n",
    "traffic_train.loc[traffic_train['weather_general_Drizzle'] > 1, 'weather_general_Drizzle'] = 1\n",
    "traffic_train.loc[traffic_train['weather_general_Fog'] > 1, 'weather_general_Fog'] = 1\n",
    "traffic_train.loc[traffic_train['weather_general_Haze'] > 1, 'weather_general_Haze'] = 1\n",
    "traffic_train.loc[traffic_train['weather_general_Mist'] > 1, 'weather_general_Mist'] = 1\n",
    "traffic_train.loc[traffic_train['weather_general_Rain'] > 1, 'weather_general_Rain'] = 1\n",
    "traffic_train.loc[traffic_train['weather_general_Snow'] > 1, 'weather_general_Snow'] = 1\n",
    "traffic_train.loc[traffic_train['weather_general_Thunderstorm'] > 1, 'weather_general_Thunderstorm'] = 1"
   ]
  },
  {
   "cell_type": "markdown",
   "metadata": {},
   "source": [
    "I save the explanatory variables into a list."
   ]
  },
  {
   "cell_type": "code",
   "execution_count": 609,
   "metadata": {},
   "outputs": [
    {
     "data": {
      "text/plain": [
       "Index(['clouds_coverage_pct', 'temperature', 'weather_general_Clear',\n",
       "       'weather_general_Clouds', 'weather_general_Drizzle',\n",
       "       'weather_general_Fog', 'weather_general_Haze', 'weather_general_Mist',\n",
       "       'weather_general_Rain', 'weather_general_Snow',\n",
       "       'weather_general_Thunderstorm', 'month_1', 'month_2', 'month_3',\n",
       "       'month_4', 'month_5', 'month_6', 'month_7', 'month_8', 'month_9',\n",
       "       'month_10', 'month_11', 'month_12', 'hour_0', 'hour_1', 'hour_2',\n",
       "       'hour_3', 'hour_4', 'hour_5', 'hour_6', 'hour_7', 'hour_8', 'hour_9',\n",
       "       'hour_10', 'hour_11', 'hour_12', 'hour_13', 'hour_14', 'hour_15',\n",
       "       'hour_16', 'hour_17', 'hour_18', 'hour_19', 'hour_20', 'hour_21',\n",
       "       'hour_22', 'hour_23', 'is_weekend_False', 'is_weekend_True',\n",
       "       'weekday_0', 'weekday_1', 'weekday_2', 'weekday_3', 'weekday_4',\n",
       "       'weekday_5', 'weekday_6', 'part_of_day_Evening', 'part_of_day_Morning',\n",
       "       'part_of_day_Night', 'part_of_day_Noon', 'clear_sky_ordinal',\n",
       "       'rain_strength_ordinal', 'snow_strength_ordinal'],\n",
       "      dtype='object')"
      ]
     },
     "execution_count": 609,
     "metadata": {},
     "output_type": "execute_result"
    }
   ],
   "source": [
    "features = traffic_train.columns.drop(['date_time','traffic'])\n",
    "features"
   ]
  },
  {
   "cell_type": "markdown",
   "metadata": {},
   "source": [
    "As this is data sorted by time, the best way would be to manually split the data into a training set and a test set. This way I will be able to check the model performance on actually new data (without risking potential data leakage due to autocorrelation)."
   ]
  },
  {
   "cell_type": "code",
   "execution_count": 610,
   "metadata": {},
   "outputs": [
    {
     "data": {
      "text/plain": [
       "(21000, 65)"
      ]
     },
     "execution_count": 610,
     "metadata": {},
     "output_type": "execute_result"
    }
   ],
   "source": [
    "df = traffic_train[:21000]\n",
    "target = \"traffic\"\n",
    "df.shape"
   ]
  },
  {
   "cell_type": "code",
   "execution_count": 629,
   "metadata": {},
   "outputs": [],
   "source": [
    "x_train = traffic_train[:21000][features]\n",
    "x_test = traffic_train[21001:][features]\n",
    "y_train = traffic_train[:21000][target]\n",
    "y_test = traffic_train[21001:][target]"
   ]
  },
  {
   "cell_type": "markdown",
   "metadata": {},
   "source": [
    "## Linear Regression, Lasso, Ridge, Elastic Net"
   ]
  },
  {
   "cell_type": "code",
   "execution_count": 530,
   "metadata": {
    "ExecuteTime": {
     "end_time": "2020-12-18T17:15:36.815505Z",
     "start_time": "2020-12-18T17:15:36.810929Z"
    }
   },
   "outputs": [],
   "source": [
    "# Linear wrapper\n",
    "def CVLinearReg(nFolds = 5, randomState=2022, method = \"linear\", features=features, *args, **kwargs):\n",
    "    \n",
    "    kf = KFold(n_splits=nFolds, shuffle=True, random_state=randomState)\n",
    "    \n",
    "    # Lists to store the results\n",
    "    testResults = []\n",
    "    trainResults = []\n",
    "    predictions = []\n",
    "    indices = []\n",
    "    \n",
    "    # Model validation on consecutive folds\n",
    "    for train, test in kf.split(df.index.values):\n",
    "        \n",
    "        algorithm = {\n",
    "        \"linear\":linear_model.LinearRegression,\n",
    "        \"lasso\":linear_model.Lasso,\n",
    "        \"ridge\":linear_model.Ridge,\n",
    "        \"elastic\":linear_model.ElasticNet\n",
    "        }\n",
    "        \n",
    "        # Prepare the estimator\n",
    "        clf = Pipeline([('scaler', RobustScaler()), ('algo', algorithm[method](*args, **kwargs))])\n",
    "\n",
    "        # Train the mode\n",
    "        clf.fit(df.iloc[train][features], df.iloc[train][target])\n",
    "        \n",
    "        predsTrain = clf.predict(df.iloc[train][features])\n",
    "        preds = clf.predict(df.iloc[test][features])\n",
    "        # Save each fold predictions\n",
    "        predictions.append(preds.tolist().copy())\n",
    "        # Store index for original dataset\n",
    "        indices.append(df.iloc[test].index.tolist().copy())\n",
    "        # Get MAPE score from each fold\n",
    "        trainScore = mean_absolute_percentage_error(df[target].iloc[train], predsTrain)\n",
    "        testScore = mean_absolute_percentage_error(df[target].iloc[test], preds)\n",
    "        # Store Mape results to list \n",
    "        trainResults.append(trainScore)\n",
    "        testResults.append(testScore)\n",
    "\n",
    "    return trainResults, testResults, predictions, indices"
   ]
  },
  {
   "cell_type": "code",
   "execution_count": 531,
   "metadata": {
    "ExecuteTime": {
     "end_time": "2020-12-18T17:15:36.854962Z",
     "start_time": "2020-12-18T17:15:36.832120Z"
    }
   },
   "outputs": [
    {
     "name": "stdout",
     "output_type": "stream",
     "text": [
      "LINEAR:  0.4912037701584103 0.492845667304396\n",
      "LASSO:  0.49429503810260444 0.49599734243938043\n",
      "RIDGE:  0.49113667722811405 0.4929973004163661\n",
      "ELASTIC:  1.3048404808357588 1.305581140124339\n"
     ]
    }
   ],
   "source": [
    "trainResults, testResults, predictions, indices = CVLinearReg(method=\"linear\")\n",
    "print(\"LINEAR: \", np.mean(trainResults), np.mean(testResults))\n",
    "trainResults, testResults, predictions, indices = CVLinearReg(method=\"lasso\")\n",
    "print(\"LASSO: \", np.mean(trainResults), np.mean(testResults))\n",
    "trainResults, testResults, predictions, indices = CVLinearReg(method=\"ridge\")\n",
    "print(\"RIDGE: \", np.mean(trainResults), np.mean(testResults))\n",
    "trainResults, testResults, predictions, indices = CVLinearReg(method=\"elastic\")\n",
    "print(\"ELASTIC: \", np.mean(trainResults), np.mean(testResults))"
   ]
  },
  {
   "cell_type": "code",
   "execution_count": 532,
   "metadata": {},
   "outputs": [
    {
     "name": "stdout",
     "output_type": "stream",
     "text": [
      "0.0 0.49087110172783 0.49273381854224985\n",
      "0.05 0.4909336948097046 0.49279125075793584\n",
      "0.1 0.49111862451743804 0.49297176181735464\n",
      "0.15000000000000002 0.4912061668021875 0.49305210699215624\n",
      "0.2 0.4913230973855235 0.4931619875241304\n",
      "0.25 0.4916535153457963 0.4934835399487093\n",
      "0.30000000000000004 0.4918199168523124 0.49364108253990324\n",
      "0.35000000000000003 0.4919885168383855 0.49380145119850605\n",
      "0.4 0.4921598242425647 0.4939637958440627\n",
      "0.45 0.49233350750788335 0.4941269581729818\n"
     ]
    }
   ],
   "source": [
    "for k in np.arange(0, 0.5, 0.05):\n",
    "    trainResults, testResults, predictions, indices = CVLinearReg(method=\"lasso\", alpha=k)\n",
    "    print(k, np.mean(trainResults), np.mean(testResults))"
   ]
  },
  {
   "cell_type": "code",
   "execution_count": 533,
   "metadata": {},
   "outputs": [
    {
     "name": "stdout",
     "output_type": "stream",
     "text": [
      "0.0 0.4939241937695938 0.4954958214952204\n",
      "0.1 0.4908976509820125 0.49276017128317073\n",
      "0.2 0.4909242012683096 0.4927865187058994\n",
      "0.30000000000000004 0.4909507590431955 0.4928128706787732\n",
      "0.4 0.4909773167024497 0.4928392220826859\n",
      "0.5 0.4910038713014789 0.49286557571294026\n",
      "0.6000000000000001 0.4910304204584962 0.49289193043186613\n",
      "0.7000000000000001 0.491056974444738 0.49291827880999567\n",
      "0.8 0.4910835303979919 0.49294462578981174\n",
      "0.9 0.49111010327188537 0.4929709664833499\n"
     ]
    }
   ],
   "source": [
    "for k in np.arange(0, 1, 0.1):\n",
    "    trainResults, testResults, predictions, indices = CVLinearReg(method=\"ridge\", alpha=k)\n",
    "    print(k, np.mean(trainResults), np.mean(testResults))"
   ]
  },
  {
   "cell_type": "code",
   "execution_count": 534,
   "metadata": {},
   "outputs": [
    {
     "name": "stdout",
     "output_type": "stream",
     "text": [
      "0.0 0.49087110172783 0.49273381854224985\n",
      "0.05 0.6021117637459567 0.603556845636173\n",
      "0.1 0.6952261680576548 0.6965452706565853\n",
      "0.15000000000000002 0.7738796662068608 0.7750709255608911\n",
      "0.2 0.8398655574042225 0.8409886440896486\n",
      "0.25 0.8964804045164076 0.8975278994773559\n"
     ]
    }
   ],
   "source": [
    "for k in np.arange(0, 0.3, 0.05):\n",
    "    trainResults, testResults, predictions, indices = CVLinearReg(method=\"elastic\", alpha=k)\n",
    "    print(k, np.mean(trainResults), np.mean(testResults))"
   ]
  },
  {
   "cell_type": "code",
   "execution_count": 535,
   "metadata": {},
   "outputs": [
    {
     "name": "stdout",
     "output_type": "stream",
     "text": [
      "0.0 0.694969492491263 0.6962917002879759\n",
      "0.1 0.6775979991314613 0.6789046650384056\n",
      "0.2 0.659638739265527 0.6609834407464328\n",
      "0.30000000000000004 0.6411817136910104 0.6425290846716049\n",
      "0.4 0.6219995770979733 0.6233900705055156\n",
      "0.5 0.6021117637459567 0.603556845636173\n",
      "0.6000000000000001 0.581387251639464 0.5829085645183498\n",
      "0.7000000000000001 0.5599586932217524 0.5615054747078198\n",
      "0.8 0.537521307629129 0.5391522881299339\n",
      "0.9 0.5141833212845495 0.5159216244788452\n"
     ]
    }
   ],
   "source": [
    "for k in np.arange(0, 1, 0.1):\n",
    "    trainResults, testResults, predictions, indices = CVLinearReg(method=\"elastic\", alpha=0.05, l1_ratio=k)\n",
    "    print(k, np.mean(trainResults), np.mean(testResults))"
   ]
  },
  {
   "cell_type": "markdown",
   "metadata": {},
   "source": [
    "For each algorithm I iterate through the parameters. No overfitting but bad overall performance."
   ]
  },
  {
   "cell_type": "markdown",
   "metadata": {},
   "source": [
    "Best results for Ridge and `alpha=0.2`. For the found model I do an out-of-sample prediction."
   ]
  },
  {
   "cell_type": "code",
   "execution_count": 571,
   "metadata": {},
   "outputs": [
    {
     "name": "stdout",
     "output_type": "stream",
     "text": [
      "MAPE\n",
      "training: 49.1158%\n",
      "test (out-of-sample): 194.5284%\n"
     ]
    }
   ],
   "source": [
    "pipeline_best_linear = Pipeline([(\"scaler\", RobustScaler()), (\"classifier\",linear_model.Ridge(alpha=0.2))])\n",
    "pipeline_best_linear.fit(x_train, y_train)\n",
    "y_best_linear = pipeline_best_linear.predict(x_test)\n",
    "\n",
    "print(f'MAPE\\ntraining: {round(mean_absolute_percentage_error(y_train, pipeline_best_linear.predict(x_train)) * 100, 4)}%\\ntest (out-of-sample): {round(mean_absolute_percentage_error(y_test, y_best_linear) * 100, 4)}%')"
   ]
  },
  {
   "cell_type": "code",
   "execution_count": 537,
   "metadata": {},
   "outputs": [],
   "source": [
    "# from sklearn.linear_model import Ridge\n",
    "# pipline_ridge = Pipeline([(\"scaler\", RobustScaler()),\n",
    "#                         (\"classifier\",Ridge())])\n",
    "\n",
    "# param_grid = {'classifier__alpha':np.arange(0, 0.5, 0.02)}\n",
    "# #forest_reg = RandomForestRegressor(random_state=997)\n",
    "# # przeprowadza proces uczenia na pięciu podzbiorach, czyli łącznie (12+6)*5=90 przebiegów \n",
    "\n",
    "\n",
    "# grid_search = GridSearchCV(pipline_ridge, param_grid, cv=5,\n",
    "#                            scoring='neg_mean_absolute_percentage_error',\n",
    "#                            return_train_score=True)\n",
    "# grid_search.fit(x_train, y_train)\n",
    "\n",
    "# best_ridge = grid_search.best_estimator_ #RandomForestRegressor(bootstrap=False, max_features=3, n_estimators=3, random_state=42)\n",
    "# best_ridge.fit(x_train, y_train)\n",
    "# y_ridge = best_ridge.predict(x_train)\n",
    "\n",
    "# print(f'MAPE:\\ntraining: {round(mean_absolute_percentage_error(y_train, y_ridge) * 100, 4)}%, test: {round(mean_absolute_percentage_error(y_test, best_ridge.predict(x_test)) * 100, 4)}%')"
   ]
  },
  {
   "cell_type": "markdown",
   "metadata": {},
   "source": [
    "## Random Forrest Regressor"
   ]
  },
  {
   "cell_type": "code",
   "execution_count": 612,
   "metadata": {
    "tags": []
   },
   "outputs": [],
   "source": [
    "# Random Forrest Regressor\n",
    "def CVTestRFRegress(nFolds = 6, randomState=2020, debug=False, features=features, *args, **kwargs):\n",
    "    kf = KFold(n_splits=nFolds, shuffle=True, random_state=randomState)\n",
    "    \n",
    "    # Lists to store the results\n",
    "    testResults = []\n",
    "    trainResults = []\n",
    "    predictions = []\n",
    "    indices = []\n",
    "\n",
    "    # Model validation on consecutive folds\n",
    "    for train, test in kf.split(df.index.values):\n",
    "        # Prepare the estimator\n",
    "        clf = Pipeline([(\"scaler\", RobustScaler()), (\"classifier\",RandomForestRegressor(*args, **kwargs, random_state=randomState))])\n",
    "        #clf = RandomForestRegressor(*args, **kwargs, random_state=randomState, n_jobs=-1)\n",
    "        if debug:\n",
    "            print(clf)\n",
    "        # Train the model\n",
    "        clf.fit(df.iloc[train][features], df.iloc[train][target])\n",
    "\n",
    "        predsTrain = clf.predict(df.iloc[train][features])\n",
    "        preds = clf.predict(df.iloc[test][features])\n",
    "        \n",
    "        # Save each fold predictions\n",
    "        predictions.append(preds.tolist().copy())\n",
    "        \n",
    "        # Store index for original dataset\n",
    "        indices.append(df.iloc[test].index.tolist().copy())\n",
    "        \n",
    "        # Get MAPE score from each fold\n",
    "        trainScore = mean_absolute_percentage_error(df[target].iloc[train], predsTrain)\n",
    "        testScore = mean_absolute_percentage_error(df[target].iloc[test], preds)\n",
    "        \n",
    "        # Store Mape results to list  \n",
    "        trainResults.append(trainScore)\n",
    "        testResults.append(testScore)\n",
    "        \n",
    "        # Optionally, print results for each fold\n",
    "        if debug:\n",
    "            print(\"Train MAPE:\", trainScore,\n",
    "                  \"Valid MAPE:\", testScore)\n",
    "        \n",
    "    return trainResults, testResults, predictions, indices"
   ]
  },
  {
   "cell_type": "code",
   "execution_count": 539,
   "metadata": {},
   "outputs": [
    {
     "name": "stdout",
     "output_type": "stream",
     "text": [
      "0.06079242934329113 0.1611147427774399\n"
     ]
    }
   ],
   "source": [
    "trainResults, testResults, predictions, indices = CVTestRFRegress()\n",
    "print(np.mean(trainResults), np.mean(testResults))"
   ]
  },
  {
   "cell_type": "markdown",
   "metadata": {},
   "source": [
    "Right from the start I can see that Random Forrest is doing better than Regression. However, I observe a slight overfitting."
   ]
  },
  {
   "cell_type": "markdown",
   "metadata": {},
   "source": [
    "I then iterate over more parameters to tune the hyperparameters."
   ]
  },
  {
   "cell_type": "code",
   "execution_count": 540,
   "metadata": {},
   "outputs": [
    {
     "name": "stdout",
     "output_type": "stream",
     "text": [
      "20 0.06385044555319457 0.16262281959157207\n",
      "30 0.06254638458585977 0.16219813199959163\n",
      "40 0.062314707276328075 0.1616690001437245\n"
     ]
    }
   ],
   "source": [
    "for k in range(20, 50,10):\n",
    "    trainResults, testResults, predictions, indices = CVTestRFRegress(n_estimators=k)\n",
    "    print(k, np.mean(trainResults), np.mean(testResults))"
   ]
  },
  {
   "cell_type": "markdown",
   "metadata": {},
   "source": [
    "The more trees the better."
   ]
  },
  {
   "cell_type": "code",
   "execution_count": 541,
   "metadata": {},
   "outputs": [
    {
     "name": "stdout",
     "output_type": "stream",
     "text": [
      "20 0.06343106570167545 0.16443592696759676\n",
      "22 0.06320321394868834 0.16332436573542608\n",
      "24 0.06318555266210772 0.1624831691993465\n",
      "26 0.0631215612724569 0.16194649900402214\n",
      "28 0.06285048038123943 0.16241220451359314\n",
      "30 0.06295632510172665 0.1630787859747166\n",
      "32 0.06279337964142219 0.16282492194257822\n",
      "34 0.06278068654709518 0.161269687223761\n",
      "36 0.0625835555070533 0.16325426453438027\n",
      "38 0.06255712269422153 0.16059020913659555\n",
      "40 0.06283043486884468 0.16268119378512577\n",
      "42 0.06238784396093644 0.1615674162307538\n",
      "44 0.06316080278363771 0.1628512737829719\n",
      "46 0.06258176961816575 0.16191361313772992\n",
      "48 0.06267305552703388 0.16080351709568555\n"
     ]
    }
   ],
   "source": [
    "for k in range(20, 50, 2):\n",
    "    trainResults, testResults, predictions, indices = CVTestRFRegress(n_estimators=30, max_features=k)\n",
    "    print(k, np.mean(trainResults), np.mean(testResults))"
   ]
  },
  {
   "cell_type": "markdown",
   "metadata": {},
   "source": [
    "Best result for `max_features=38`."
   ]
  },
  {
   "cell_type": "code",
   "execution_count": 542,
   "metadata": {},
   "outputs": [
    {
     "name": "stdout",
     "output_type": "stream",
     "text": [
      "15 0.13210558825969493 0.1651031186807337\n",
      "17 0.1352167258346719 0.16555928982191834\n",
      "19 0.13675845096219053 0.16537843583962633\n",
      "21 0.13875604641365943 0.16635250362408002\n",
      "23 0.14029024555612815 0.1665298028250055\n",
      "25 0.14200962559435776 0.16629633168624144\n",
      "27 0.1445663739062776 0.1671170303083445\n",
      "29 0.1455484347076287 0.16694996932716002\n"
     ]
    }
   ],
   "source": [
    "for k in range(15, 30, 2):\n",
    "    trainResults, testResults, predictions, indices = CVTestRFRegress(n_estimators=30, max_features=38, min_samples_split=k)\n",
    "    print(k, np.mean(trainResults), np.mean(testResults))"
   ]
  },
  {
   "cell_type": "markdown",
   "metadata": {},
   "source": [
    "Best `min_samples_split` for 19. Changing this parameter helps a lot with overfitting."
   ]
  },
  {
   "cell_type": "code",
   "execution_count": 543,
   "metadata": {},
   "outputs": [
    {
     "name": "stdout",
     "output_type": "stream",
     "text": [
      "10 0.18099215651639264 0.19178316177357072\n",
      "15 0.14376814896564036 0.1675715942461435\n",
      "20 0.13772110831356388 0.16529753609813572\n",
      "25 0.13737307955833267 0.1660850212799423\n",
      "30 0.13653312113231708 0.16580939838253206\n",
      "35 0.1366506120547024 0.16534733073932406\n",
      "40 0.13675845096219053 0.16537843583962633\n",
      "45 0.13675845096219053 0.16537843583962633\n"
     ]
    }
   ],
   "source": [
    "for k in range(10, 50, 5):\n",
    "    trainResults, testResults, predictions, indices = CVTestRFRegress(n_estimators=30, max_features=38, min_samples_split=19, max_depth=k)\n",
    "    print(k, np.mean(trainResults), np.mean(testResults))"
   ]
  },
  {
   "cell_type": "markdown",
   "metadata": {},
   "source": [
    "Best `max_depth` for 35."
   ]
  },
  {
   "cell_type": "code",
   "execution_count": 544,
   "metadata": {},
   "outputs": [
    {
     "name": "stdout",
     "output_type": "stream",
     "text": [
      "1 0.1366506120547024 0.16534733073932406\n",
      "3 0.1410636547584135 0.16551895714739526\n",
      "5 0.1443794128464791 0.1659416448200611\n",
      "7 0.14842304949256355 0.16682276647203942\n",
      "9 0.1523993914536562 0.16740196159290296\n",
      "11 0.15608337012537443 0.16939714212258242\n",
      "13 0.1588093444719744 0.17045113743871051\n"
     ]
    }
   ],
   "source": [
    "for k in range(1, 15, 2):\n",
    "    trainResults, testResults, predictions, indices = CVTestRFRegress(n_estimators=30, max_features=38, min_samples_split=19, max_depth=35, min_samples_leaf = k)\n",
    "    print(k, np.mean(trainResults), np.mean(testResults))"
   ]
  },
  {
   "cell_type": "markdown",
   "metadata": {},
   "source": [
    "Best `min_samples_leaf` for 3."
   ]
  },
  {
   "cell_type": "markdown",
   "metadata": {},
   "source": [
    "I then train the tuned model on the whole set and make a prediction on the out-of-sample data."
   ]
  },
  {
   "cell_type": "code",
   "execution_count": 613,
   "metadata": {},
   "outputs": [
    {
     "name": "stdout",
     "output_type": "stream",
     "text": [
      "MAPE\n",
      "training: 13.9113%\n",
      "test (out-of-sample): 177.9245%\n"
     ]
    }
   ],
   "source": [
    "pipeline_best_forrest = Pipeline([(\"scaler\", RobustScaler()), (\"classifier\",RandomForestRegressor(n_estimators=1000, max_features=38, min_samples_split=19, max_depth=35, min_samples_leaf = 3, random_state=2137))])\n",
    "\n",
    "pipeline_best_forrest.fit(x_train, y_train)\n",
    "y_best_forrest = pipeline_best_forrest.predict(x_test)\n",
    "\n",
    "print(f'MAPE\\ntraining: {round(mean_absolute_percentage_error(y_train, pipeline_best_forrest.predict(x_train)) * 100, 4)}%\\ntest (out-of-sample): {round(mean_absolute_percentage_error(y_test, y_best_forrest) * 100, 4)}%')"
   ]
  },
  {
   "cell_type": "markdown",
   "metadata": {},
   "source": [
    "I also do an automatic search for parameters using the GridSearch method."
   ]
  },
  {
   "cell_type": "code",
   "execution_count": 551,
   "metadata": {},
   "outputs": [
    {
     "name": "stdout",
     "output_type": "stream",
     "text": [
      "MAPE:\n",
      "training: 16.4833%, test: 178.5615%\n"
     ]
    }
   ],
   "source": [
    "pipline_forest = Pipeline([(\"scaler\", RobustScaler()), (\"classifier\",RandomForestRegressor(random_state=997))])\n",
    "\n",
    "param_grid = {'classifier__n_estimators': [4, 6, 9], \n",
    "              'classifier__max_features': ['log2', 'sqrt','auto'],\n",
    "              'classifier__max_depth': [2, 3, 5, 10], \n",
    "              'classifier__min_samples_split': [2, 3, 5],\n",
    "              'classifier__min_samples_leaf': [1,5,8]}\n",
    "\n",
    "#forest_reg = RandomForestRegressor(random_state=997)\n",
    "# przeprowadza proces uczenia na pięciu podzbiorach, czyli łącznie (12+6)*5=90 przebiegów \n",
    "grid_search = GridSearchCV(pipline_forest, param_grid, cv=10)\n",
    "grid_search.fit(x_train, y_train)\n",
    "\n",
    "best_forest = grid_search.best_estimator_ #RandomForestRegressor(bootstrap=False, max_features=3, n_estimators=3, random_state=42)\n",
    "best_forest.fit(x_train, y_train)\n",
    "y_forest = best_forest.predict(x_train)\n",
    "\n",
    "print(f'MAPE:\\ntraining: {round(mean_absolute_percentage_error(y_train, y_forest) * 100, 4)}%, test: {round(mean_absolute_percentage_error(y_test, best_forest.predict(x_test)) * 100, 4)}%')"
   ]
  },
  {
   "cell_type": "markdown",
   "metadata": {},
   "source": [
    "Prediction of hyperparameters obtained with GridSearch is weaker than that obtained manually."
   ]
  },
  {
   "cell_type": "markdown",
   "metadata": {},
   "source": [
    "### Out-Of-Sample"
   ]
  },
  {
   "cell_type": "markdown",
   "metadata": {},
   "source": [
    "Let's see how RandomForrest handles prediction on brand new (out-of-sample) data."
   ]
  },
  {
   "cell_type": "markdown",
   "metadata": {},
   "source": [
    "Let's plot real values first."
   ]
  },
  {
   "cell_type": "code",
   "execution_count": 659,
   "metadata": {},
   "outputs": [
    {
     "data": {
      "text/plain": [
       "Text(0.5, 1.0, 'Out-of-sample Random Forrest accuracy')"
      ]
     },
     "execution_count": 659,
     "metadata": {},
     "output_type": "execute_result"
    },
    {
     "data": {
      "image/png": "[encoded data removed]",
      "text/plain": [
       "<Figure size 432x288 with 1 Axes>"
      ]
     },
     "metadata": {
      "needs_background": "light"
     },
     "output_type": "display_data"
    }
   ],
   "source": [
    "y1 = y_test[800:1000].array.to_numpy() # real values\n",
    "y2 = y_best_forrest[800:1000] # predictions\n",
    "\n",
    "import matplotlib.pyplot as plt\n",
    "p1, =plt.plot(y1, label='Real values')\n",
    "p2, =plt.plot(y2, linestyle='dashed', label='Fitted values')\n",
    "plt.legend(handles=[p1, p2], title='', bbox_to_anchor=(1.05, 1), loc='upper left')\n",
    "plt.title(\"Out-of-sample Random Forrest accuracy\")"
   ]
  },
  {
   "cell_type": "markdown",
   "metadata": {},
   "source": [
    "Then, let's plot predicted values."
   ]
  },
  {
   "cell_type": "code",
   "execution_count": 656,
   "metadata": {},
   "outputs": [],
   "source": [
    "#plt.plot(y_best_forrest[800:1000])"
   ]
  },
  {
   "cell_type": "markdown",
   "metadata": {},
   "source": [
    "**I can observe that predictions are very accurate!** All the highs and lows on the chart are well captured. Also captured is the smaller movement on weekends."
   ]
  },
  {
   "cell_type": "markdown",
   "metadata": {},
   "source": [
    "### k-Nearest Neighbors Regressor"
   ]
  },
  {
   "cell_type": "code",
   "execution_count": 592,
   "metadata": {},
   "outputs": [],
   "source": [
    "# KNN regressor wrapper\n",
    "def CVTestKNNRegress(nFolds = 6, randomState=2137, debug=False, features=features, *args, **kwargs):\n",
    "    kf = KFold(n_splits=nFolds, shuffle=True, random_state=randomState)\n",
    "\n",
    "    # Lists to store the results\n",
    "    testResults = []\n",
    "    trainResults = []\n",
    "    predictions = []\n",
    "    indices = []\n",
    "\n",
    "    # Model validation on consecutive folds\n",
    "    for train, test in kf.split(df.index.values):\n",
    "        # Prepare the estimator\n",
    "        clf = Pipeline([(\"scaler\", RobustScaler()), (\"classifier\", KNeighborsRegressor(*args, **kwargs))])\n",
    "        #clf = make_pipeline(RobustScaler(), KNeighborsRegressor(*args, **kwargs, n_jobs=-1))\n",
    "        #clf = KNeighborsRegressor(*args, **kwargs, random_state=randomState, n_jobs=-1)\n",
    "        if debug:\n",
    "            print(clf)\n",
    "        # Train the model\n",
    "        clf.fit(df.iloc[train][features], df.iloc[train][target])\n",
    "\n",
    "        predsTrain = clf.predict(df.iloc[train][features])\n",
    "        preds = clf.predict(df.iloc[test][features])\n",
    "        \n",
    "        # Save each fold predictions\n",
    "        predictions.append(preds.tolist().copy())\n",
    "        \n",
    "        # Store index for original dataset\n",
    "        indices.append(df.iloc[test].index.tolist().copy())\n",
    "        \n",
    "        # Get MAPE score from each fold\n",
    "        trainScore = mean_absolute_percentage_error(df[target].iloc[train], predsTrain)\n",
    "        testScore = mean_absolute_percentage_error(df[target].iloc[test], preds)\n",
    "\n",
    "        # Store Mape results to list \n",
    "        trainResults.append(trainScore)\n",
    "        testResults.append(testScore)\n",
    "        \n",
    "        # Optionally, print results for each fold\n",
    "        if debug:\n",
    "            print(\"Train MAPE:\", trainScore,\n",
    "                  \"Valid MAPE:\", testScore)\n",
    "        \n",
    "    return trainResults, testResults, predictions, indices"
   ]
  },
  {
   "cell_type": "code",
   "execution_count": 593,
   "metadata": {},
   "outputs": [
    {
     "name": "stdout",
     "output_type": "stream",
     "text": [
      "2 0.11074829271258081 0.2330407546741119\n",
      "3 0.15573328392651753 0.25338213604194965\n",
      "4 0.19380159782974982 0.274472251118174\n",
      "5 0.2244789853557383 0.2968356539969705\n",
      "6 0.24810196565261644 0.3119441716754739\n"
     ]
    }
   ],
   "source": [
    "for k in range(2, 7, 1):\n",
    "    trainResults, testResults, predictions, indices = CVTestKNNRegress(n_neighbors = k)\n",
    "    print(k, np.mean(trainResults), np.mean(testResults))"
   ]
  },
  {
   "cell_type": "markdown",
   "metadata": {},
   "source": [
    "The smallest overfitting and best performance for the 4 nearest neighbours. But bad performance overall."
   ]
  },
  {
   "cell_type": "code",
   "execution_count": 550,
   "metadata": {},
   "outputs": [
    {
     "name": "stdout",
     "output_type": "stream",
     "text": [
      "MAPE\n",
      "training: 17.6694%\n",
      "test: 177.9245%\n"
     ]
    }
   ],
   "source": [
    "pipeline_best_knn = Pipeline([(\"scaler\", RobustScaler()), (\"classifier\",KNeighborsRegressor(n_neighbors = 4))])\n",
    "\n",
    "pipeline_best_knn.fit(x_train, y_train)\n",
    "y_best_knn = pipeline_best_forrest.predict(x_test)\n",
    "\n",
    "print(f'MAPE\\ntraining: {round(mean_absolute_percentage_error(y_train, pipeline_best_knn.predict(x_train)) * 100, 4)}%\\ntest: {round(mean_absolute_percentage_error(y_test, y_best_knn) * 100, 4)}%')"
   ]
  },
  {
   "cell_type": "markdown",
   "metadata": {},
   "source": [
    "On out-of-sample collection quite good results but still weaker than Random Forrest."
   ]
  },
  {
   "cell_type": "code",
   "execution_count": 565,
   "metadata": {},
   "outputs": [
    {
     "name": "stdout",
     "output_type": "stream",
     "text": [
      "MAPE:\n",
      "training: 23.0709%, test: 217.8419%\n"
     ]
    }
   ],
   "source": [
    "from sklearn.neighbors import KNeighborsRegressor\n",
    "pipline_knn = Pipeline([(\"scaler\", RobustScaler()),\n",
    "                        (\"classifier\",KNeighborsRegressor())])\n",
    "\n",
    "\n",
    "param_grid = {\"classifier__n_neighbors\": range(4, 7)}\n",
    "\n",
    "grid_search = GridSearchCV(pipline_knn, param_grid, cv=5,\n",
    "                           return_train_score=True)\n",
    "grid_search.fit(x_train, y_train)\n",
    "\n",
    "best_knn = grid_search.best_estimator_\n",
    "best_knn.fit(x_train, y_train)\n",
    "y_knn = best_knn.predict(x_train)\n",
    "\n",
    "print(f'MAPE:\\ntraining: {round(mean_absolute_percentage_error(y_train, y_knn) * 100, 4)}%, test: {round(mean_absolute_percentage_error(y_test, best_knn.predict(x_test)) * 100, 4)}%')"
   ]
  },
  {
   "cell_type": "markdown",
   "metadata": {},
   "source": [
    "GridSearch indicated that the best model was that for the 7 nearest neighbours. However, its performance on the out-of-sample set is very poor."
   ]
  },
  {
   "cell_type": "markdown",
   "metadata": {},
   "source": [
    "## Support-Vector Machine"
   ]
  },
  {
   "cell_type": "code",
   "execution_count": 554,
   "metadata": {},
   "outputs": [],
   "source": [
    "# SVM wrapper\n",
    "def CVTestSVMRegress(nFolds = 6, randomState=2137, debug=False, features=features, *args, **kwargs):\n",
    "    kf = KFold(n_splits=nFolds, shuffle=True, random_state=randomState)\n",
    "\n",
    "    # Lists to store the results\n",
    "    testResults = []\n",
    "    trainResults = []\n",
    "    predictions = []\n",
    "    indices = []\n",
    "\n",
    "    # Model validation on consecutive folds\n",
    "    for train, test in kf.split(df.index.values):\n",
    "        # Prepare the estimator\n",
    "        clf = Pipeline([(\"scaler\", RobustScaler()), (\"classifier\", SVR(*args, **kwargs))])\n",
    "        \n",
    "        if debug:\n",
    "            print(clf)\n",
    "        # Train the model\n",
    "        clf.fit(df.iloc[train][features], df.iloc[train][target])\n",
    "\n",
    "        predsTrain = clf.predict(df.iloc[train][features])\n",
    "        preds = clf.predict(df.iloc[test][features])\n",
    "        \n",
    "        # Save each fold predictions\n",
    "        predictions.append(preds.tolist().copy())\n",
    "        \n",
    "        # Store index for original dataset\n",
    "        indices.append(df.iloc[test].index.tolist().copy())\n",
    "        \n",
    "        # Get MAPE score from each fold\n",
    "        trainScore = mean_absolute_percentage_error(df[target].iloc[train], predsTrain)\n",
    "        testScore = mean_absolute_percentage_error(df[target].iloc[test], preds)\n",
    "\n",
    "        # Store Mape results to list \n",
    "        trainResults.append(trainScore)\n",
    "        testResults.append(testScore)\n",
    "        \n",
    "        # Optionally, print results for each fold\n",
    "        if debug:\n",
    "            print(\"Train MAPE:\", trainScore,\n",
    "                  \"Valid MAPE:\", testScore)\n",
    "        \n",
    "    return trainResults, testResults, predictions, indices"
   ]
  },
  {
   "cell_type": "code",
   "execution_count": 555,
   "metadata": {},
   "outputs": [
    {
     "name": "stdout",
     "output_type": "stream",
     "text": [
      "1.632848676341272 1.6338732706868762\n"
     ]
    }
   ],
   "source": [
    "trainResults, testResults, predictions, indices = CVTestSVMRegress()\n",
    "print(np.mean(trainResults), np.mean(testResults))"
   ]
  },
  {
   "cell_type": "markdown",
   "metadata": {},
   "source": [
    "Very bad performance and long time of fitting. I won't continue with tunning the parameters"
   ]
  },
  {
   "cell_type": "markdown",
   "metadata": {},
   "source": [
    "# Test dataset predictions"
   ]
  },
  {
   "cell_type": "markdown",
   "metadata": {},
   "source": [
    "At the very end it remains to make a prediction on the test set. Before that, I have to make the same modifications on the test set as I did on the training set."
   ]
  },
  {
   "cell_type": "code",
   "execution_count": 556,
   "metadata": {},
   "outputs": [],
   "source": [
    "traffic_test = pd.read_csv(\"data/traffic_test.csv\")\n",
    "\n",
    "traffic_test.drop(columns=['snow_mm', 'rain_mm'], inplace = True)\n",
    "traffic_test = traffic_test[traffic_test.temperature > -50]\n",
    "\n",
    "traffic_test['month'] = pd.to_datetime(traffic_test['date_time']).dt.month\n",
    "traffic_test['hour'] = pd.to_datetime(traffic_test['date_time']).dt.hour\n",
    "traffic_test[\"is_weekend\"] = pd.to_datetime(traffic_test['date_time']).dt.dayofweek > 5\n",
    "traffic_test['weekday'] = pd.to_datetime(traffic_test['date_time']).dt.dayofweek\n",
    "traffic_test.drop(columns=['date_time'], inplace = True)\n",
    "\n",
    "traffic_test['part_of_day'] = pd.cut(traffic_test['hour'], bins=[0,4,7,13,19,24], labels=['Night', 'Morning','Noon','Evening', 'Night'], include_lowest=True, ordered=False)\n",
    "traffic_test['clouds_coverage_pct'] = pd.cut(x=traffic_test['clouds_coverage_pct'], bins=[-1,10,30,50,70,90,100], labels=[0, 20, 40, 60, 80, 100])\n",
    "\n",
    "traffic_test = pd.get_dummies(traffic_test, columns=['weather_general', 'weather_detailed', 'month', 'hour', 'is_weekend', 'weekday', 'part_of_day'])\n",
    "\n",
    "traffic_test[\"weather_general_Fog\"] = traffic_test[\"weather_general_Fog\"] + traffic_test[\"weather_general_Smoke\"]\n",
    "traffic_test.drop(columns=[\"weather_general_Smoke\"], inplace=True)\n",
    "\n",
    "\n",
    "traffic_test[\"weather_detailed_drizzle\"] = traffic_test[\"weather_detailed_drizzle\"] + traffic_test[\"weather_detailed_heavy intensity drizzle\"]\n",
    "traffic_test.drop(columns=[\"weather_detailed_heavy intensity drizzle\"], inplace=True)\n",
    "\n",
    "traffic_test[\"weather_detailed_drizzle\"] = traffic_test[\"weather_detailed_drizzle\"] + traffic_test[\"weather_detailed_shower drizzle\"]\n",
    "traffic_test.drop(columns=[\"weather_detailed_shower drizzle\"], inplace=True)\n",
    "\n",
    "traffic_test[\"weather_detailed_drizzle\"] = traffic_test[\"weather_detailed_drizzle\"] + traffic_test['weather_detailed_light intensity drizzle']\n",
    "traffic_test.drop(columns=['weather_detailed_light intensity drizzle'], inplace=True)\n",
    "\n",
    "traffic_test[\"weather_detailed_light rain\"] = traffic_test[\"weather_detailed_light rain\"] + traffic_test[\"weather_detailed_light rain and snow\"]\n",
    "traffic_test.drop(columns=[\"weather_detailed_light rain and snow\"], inplace=True)\n",
    "\n",
    "traffic_test[\"weather_detailed_light rain\"] = traffic_test[\"weather_detailed_light rain\"] + traffic_test['weather_detailed_proximity shower rain']\n",
    "traffic_test.drop(columns=['weather_detailed_proximity shower rain'], inplace=True)\n",
    "\n",
    "traffic_test[\"weather_detailed_thunderstorm with rain\"] = traffic_test[\"weather_detailed_thunderstorm with rain\"] + traffic_test[\"weather_detailed_thunderstorm with light drizzle\"]\n",
    "traffic_test.drop(columns=[\"weather_detailed_thunderstorm with light drizzle\"], inplace=True)\n",
    "\n",
    "\n",
    "traffic_test[\"weather_detailed_light snow\"] = traffic_test[\"weather_detailed_light snow\"] + traffic_test[\"weather_detailed_light shower snow\"]\n",
    "traffic_test.drop(columns=[\"weather_detailed_light shower snow\"], inplace=True)\n",
    "\n",
    "traffic_test[\"weather_detailed_snow\"] = traffic_test[\"weather_detailed_snow\"] + traffic_test[\"weather_detailed_sleet\"]\n",
    "traffic_test.drop(columns=[\"weather_detailed_sleet\"], inplace=True)\n",
    "\n",
    "traffic_test[\"weather_detailed_proximity thunderstorm\"] = traffic_test[\"weather_detailed_proximity thunderstorm\"] + traffic_test[\"weather_detailed_proximity thunderstorm with drizzle\"]\n",
    "traffic_test.drop(columns=[\"weather_detailed_proximity thunderstorm with drizzle\"], inplace=True)\n",
    "\n",
    "traffic_test[\"weather_detailed_proximity thunderstorm\"] = traffic_test[\"weather_detailed_proximity thunderstorm\"] + traffic_test[\"weather_detailed_proximity thunderstorm with rain\"]\n",
    "traffic_test.drop(columns=[\"weather_detailed_proximity thunderstorm with rain\"], inplace=True)\n",
    "\n",
    "traffic_test[\"weather_detailed_thunderstorm\"] = traffic_test[\"weather_detailed_thunderstorm\"] + traffic_test[\"weather_detailed_thunderstorm with heavy rain\"] + traffic_test[\"weather_detailed_thunderstorm with light rain\"] + traffic_test[\"weather_detailed_thunderstorm with rain\"]\n",
    "traffic_test.drop(columns=[\"weather_detailed_thunderstorm with heavy rain\", \"weather_detailed_thunderstorm with light rain\", \"weather_detailed_thunderstorm with rain\"], inplace=True)\n",
    "\n",
    "traffic_test[\"weather_detailed_fog\"] = traffic_test[\"weather_detailed_fog\"] + traffic_test[\"weather_detailed_smoke\"]\n",
    "traffic_test.drop(columns=[\"weather_detailed_smoke\"], inplace=True)\n",
    "\n",
    "traffic_test.drop(columns=['weather_detailed_fog', 'weather_detailed_snow', 'weather_detailed_thunderstorm', 'weather_detailed_mist', 'weather_detailed_drizzle', 'weather_detailed_haze', 'weather_detailed_proximity thunderstorm'], inplace=True)\n",
    "\n",
    "scale_mapper = {'weather_detailed_sky is clear':0, 'weather_detailed_broken clouds':0.25, 'weather_detailed_few clouds':0.5 , 'weather_detailed_scattered clouds':0.75 , 'weather_detailed_overcast clouds':1}\n",
    "traffic_test[\"clear_sky_ordinal\"] = traffic_test[['weather_detailed_sky is clear', 'weather_detailed_broken clouds', 'weather_detailed_few clouds', 'weather_detailed_scattered clouds', 'weather_detailed_overcast clouds']].idxmax(axis=1).replace(scale_mapper)\n",
    "traffic_test.drop(columns=['weather_detailed_sky is clear', 'weather_detailed_broken clouds', 'weather_detailed_few clouds', 'weather_detailed_scattered clouds', 'weather_detailed_overcast clouds'], inplace=True)\n",
    "\n",
    "scale_mapper = {'weather_detailed_light intensity shower rain':0, 'weather_detailed_light rain':0.33 , 'weather_detailed_moderate rain':0.66 , 'weather_detailed_heavy intensity rain':1}\n",
    "traffic_test[\"rain_strength_ordinal\"] = traffic_test[['weather_detailed_light intensity shower rain', 'weather_detailed_light rain', 'weather_detailed_moderate rain', 'weather_detailed_heavy intensity rain']].idxmax(axis=1).replace(scale_mapper)\n",
    "traffic_test.drop(columns=['weather_detailed_light intensity shower rain', 'weather_detailed_light rain', 'weather_detailed_moderate rain', 'weather_detailed_heavy intensity rain'], inplace=True)\n",
    "\n",
    "scale_mapper = {'weather_detailed_light snow':0, 'weather_detailed_heavy snow':1}\n",
    "traffic_test[\"snow_strength_ordinal\"] = traffic_test[['weather_detailed_light snow', 'weather_detailed_heavy snow']].idxmax(axis=1).replace(scale_mapper)\n",
    "traffic_test.drop(columns=['weather_detailed_light snow', 'weather_detailed_heavy snow'], inplace=True)"
   ]
  },
  {
   "cell_type": "code",
   "execution_count": 557,
   "metadata": {},
   "outputs": [],
   "source": [
    "y_best_model = pipeline_best_forrest.predict(traffic_test)"
   ]
  },
  {
   "cell_type": "markdown",
   "metadata": {},
   "source": [
    "I save the predictions to a CSV file."
   ]
  },
  {
   "cell_type": "code",
   "execution_count": 342,
   "metadata": {},
   "outputs": [],
   "source": [
    "#pd.DataFrame(y_best_model).to_csv(\"regression_SS.csv\", header = None, index = None)"
   ]
  },
  {
   "cell_type": "markdown",
   "metadata": {},
   "source": [
    "# Expected results\n",
    "\n",
    "Expected value of **`MAPE`: 178%**"
   ]
  }
 ],
 "metadata": {
  "kernelspec": {
   "display_name": "Python 3",
   "language": "python",
   "name": "python3"
  },
  "language_info": {
   "codemirror_mode": {
    "name": "ipython",
    "version": 3
   },
   "file_extension": ".py",
   "mimetype": "text/x-python",
   "name": "python",
   "nbconvert_exporter": "python",
   "pygments_lexer": "ipython3",
   "version": "3.8.8"
  }
 },
 "nbformat": 4,
 "nbformat_minor": 4
}
